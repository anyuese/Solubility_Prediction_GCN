{
 "cells": [
  {
   "cell_type": "markdown",
   "metadata": {},
   "source": [
    "# GCN_Command_Guideline"
   ]
  },
  {
   "cell_type": "markdown",
   "metadata": {},
   "source": [
    "## regression.py\n",
    "- --seed', '-s', type=int, default=123, help='seed'\n",
    "- --input_path', '-D', type=str, required=True, help=\"dataset path and name ('./data01.xlsx')\"\n",
    "- --solute_smiles', '-X1', type=str, required=True, help=\"column name of solute smiles ('Solute SMILES')\"\n",
    "- --solvent_smiles', '-X2', type=str, required=True, help=\"column name of solvent smiles ('Solvent SMILES')\"\n",
    "- --logS', '-Y', type=str, required=True, help=\"column name of logS ('LogS')\"\n",
    "- --output_path', '-O', type=str, default='./results/result.json', help=\"output path and name\"\n",
    "- --model_path', '-M', type=str, default='./results/model.pt', help=\"model path and name\"\n",
    "- --conv', '-c', type=str, default='GCNConv', choices=['GCNConv', 'ARMAConv', 'SAGEConv']\n",
    "- --test_size', '-z', type=float, default=0.2, help='test size'\n",
    "- --random_state', '-r', type=int, default=123, help='random state'\n",
    "- --batch_size', '-b', type=int, default=256, help='batch size'\n",
    "- --epoch', '-e', type=int, default=200, help='epoch'\n",
    "- --lr', '-l', type=float, default=0.005, help='learning rate'\n",
    "- --step_size', '-t', type=int, default=5, help='step_size of lr_scheduler'\n",
    "- --gamma', '-g', type=float, default=0.9, help='gamma of lr_scheduler'\n",
    "- --dropout', '-d', type=float, default=0.1, help='dropout'\n",
    "- --exp_name', '-n', type=str, default='myExp', help='experiment name'"
   ]
  },
  {
   "cell_type": "code",
   "execution_count": 9,
   "metadata": {},
   "outputs": [
    {
     "name": "stdout",
     "output_type": "stream",
     "text": [
      "\n",
      "Graph Convolutional Network for logS Regression\n",
      "Soongsil University, Seoul, South Korea\n",
      "Computational Science and Artificial Intelligence Lab\n",
      "\n",
      "[Preparing Data]\n",
      "- Device : cuda\n",
      "\n",
      "[Converting to Graph]\n",
      "- Train Data : 14076\n",
      "- Test Data : 3520\n",
      "\n",
      "[Train]\n",
      "- Epoch : 1\n",
      "- Loss : 2.4276\n",
      "- Epoch : 2\n",
      "- Loss : 1.5367\n",
      "- Epoch : 3\n",
      "- Loss : 1.3740\n",
      "- Epoch : 4\n",
      "- Loss : 1.2480\n",
      "- Epoch : 5\n",
      "- Loss : 1.2089\n",
      "- Epoch : 6\n",
      "- Loss : 1.1476\n",
      "- Epoch : 7\n",
      "- Loss : 1.1169\n",
      "- Epoch : 8\n",
      "- Loss : 1.1159\n",
      "- Epoch : 9\n",
      "- Loss : 1.0549\n",
      "- Epoch : 10\n",
      "- Loss : 1.0461\n",
      "\n",
      "[Test]\n",
      "- MAE : 0.7586\n",
      "- MSE : 1.1456\n",
      "- R2 : 0.7584\n",
      "\n"
     ]
    }
   ],
   "source": [
    "!python ../regression.py\\\n",
    "        -D './data01.xlsx'\\\n",
    "        -X1 'Solute SMILES'\\\n",
    "        -X2 'Solvent SMILES'\\\n",
    "        -Y 'LogS'\\\n",
    "        -O './results/regression/test_regre.json'\\\n",
    "        -M './results/regression/test_regre_model.pt'\\\n",
    "        -e 10"
   ]
  },
  {
   "cell_type": "markdown",
   "metadata": {},
   "source": [
    "## regre_test.py\n",
    "- --model_path', '-M', type=str, default='./results/model.pt', help=\"model path and name ('./results/model.pt')\"\n",
    "- --input_path', '-I', type=str, default='./smiles.txt', help=\"input path and name ('./smiles.txt')\"\n",
    "- --output_path', '-O', type=str, default='./results/pred_results.txt', help=\"output path and name ('./results/pred_results.txt')\"\n",
    "- --conv', '-c', type=str, default='GCNConv', choices=['GCNConv', 'ARMAConv', 'SAGEConv']\n",
    "- --dropout', '-d', type=float, default=0.1, help='dropout'"
   ]
  },
  {
   "cell_type": "code",
   "execution_count": 10,
   "metadata": {},
   "outputs": [
    {
     "name": "stdout",
     "output_type": "stream",
     "text": [
      "Solute SMILES\tSolvent SMILES\r\n",
      "C=CC(=O)N\tO\r\n",
      "C=CC(=O)N\tCC(=O)C\r\n",
      "CCCC1=CC=CC=C1\tO\r\n",
      "CCCC1=CC=CC=C1\tCC(=O)C"
     ]
    }
   ],
   "source": [
    "!cat ./smiles.txt"
   ]
  },
  {
   "cell_type": "code",
   "execution_count": 11,
   "metadata": {},
   "outputs": [
    {
     "name": "stdout",
     "output_type": "stream",
     "text": [
      "\n",
      "Graph Nonvolutional Network for Regression logS\n",
      "Soongsil University, Seoul, South Korea\n",
      "Computational Science and Artificial Intelligence Lab\n",
      "\n",
      "Done!\n",
      "\n"
     ]
    }
   ],
   "source": [
    "!python ../regre_test.py\\\n",
    "        -M './results/regression/test_regre_model.pt'\\\n",
    "        -I './smiles.txt'\\\n",
    "        -O './results/regression/myTest.txt'"
   ]
  },
  {
   "cell_type": "code",
   "execution_count": 12,
   "metadata": {},
   "outputs": [
    {
     "name": "stdout",
     "output_type": "stream",
     "text": [
      "Solute SMILES\tSolvent SMILES\tlogS\r\n",
      "C=CC(=O)N\tO\t0.08149509\r\n",
      "C=CC(=O)N\tCC(=O)C\t0.20979212\r\n",
      "CCCC1=CC=CC=C1\tO\t-2.7093468\r\n",
      "CCCC1=CC=CC=C1\tCC(=O)C\t0.5737878\r\n"
     ]
    }
   ],
   "source": [
    "!cat ./results/regression/myTest.txt"
   ]
  },
  {
   "cell_type": "markdown",
   "metadata": {},
   "source": [
    "## classification.py\n",
    "- --seed', '-s', type=int, default=123, help='seed'\n",
    "- --input_path', '-D', type=str, required=True, help=\"dataset path and name ('./data01.xlsx')\"\n",
    "- --solute_smiles', '-X1', type=str, required=True, help=\"column name of solute smiles ('Solute SMILES')\"\n",
    "- --solvent_smiles', '-X2', type=str, required=True, help=\"column name of solvent smiles ('Solvent SMILES')\"\n",
    "- --logS', '-Y', type=str, required=True, help=\"column name of logS ('LogS')\"\n",
    "- --output_path', '-O', type=str, default='./results/result.json', help=\"output path and name\"\n",
    "- --model_path', '-M', type=str, default='./results/model.pt', help=\"model path and name\"\n",
    "- --conv', '-c', type=str, default='GCNConv', choices=['GCNConv', 'ARMAConv', 'SAGEConv']\n",
    "- --test_size', '-z', type=float, default=0.2, help='test size'\n",
    "- --random_state', '-r', type=int, default=123, help='random state'\n",
    "- --batch_size', '-b', type=int, default=256, help='batch size'\n",
    "- --epoch', '-e', type=int, default=100, help='epoch'\n",
    "- --lr', '-l', type=float, default=0.0005, help='learning rate'\n",
    "- --step_size', '-t', type=int, default=5, help='step_size of lr_scheduler'\n",
    "- --gamma', '-g', type=float, default=0.9, help='gamma of lr_scheduler'\n",
    "- --dropout', '-d', type=float, default=0.1, help='dropout'\n",
    "- --exp_name', '-n', type=str, default='myExp', help='experiment name'\n",
    "- --ROC', '-ROC', action='store_true', help='save ROC curve result'"
   ]
  },
  {
   "cell_type": "code",
   "execution_count": 13,
   "metadata": {},
   "outputs": [
    {
     "name": "stdout",
     "output_type": "stream",
     "text": [
      "\n",
      "Graph Convolutional Network for logS Classification\n",
      "Soongsil University, Seoul, South Korea\n",
      "Computational Science and Artificial Intelligence Lab\n",
      "\n",
      "[Preparing Data]\n",
      "- Device : cuda\n",
      "\n",
      "[Converting to Graph]\n",
      "- Train Data : 14076\n",
      "- Test Data : 3520\n",
      "\n",
      "[Train]\n",
      "- Epoch : 1\n",
      "- Loss : 0.7374\n",
      "- Accuracy : 66.3484\n",
      "- Epoch : 2\n",
      "- Loss : 0.6178\n",
      "- Accuracy : 72.6562\n",
      "- Epoch : 3\n",
      "- Loss : 0.5600\n",
      "- Accuracy : 75.8898\n",
      "- Epoch : 4\n",
      "- Loss : 0.5385\n",
      "- Accuracy : 76.6855\n",
      "- Epoch : 5\n",
      "- Loss : 0.5167\n",
      "- Accuracy : 77.9586\n",
      "- Epoch : 6\n",
      "- Loss : 0.4876\n",
      "- Accuracy : 79.4705\n",
      "- Epoch : 7\n",
      "- Loss : 0.4686\n",
      "- Accuracy : 80.3458\n",
      "- Epoch : 8\n",
      "- Loss : 0.4607\n",
      "- Accuracy : 80.5773\n",
      "- Epoch : 9\n",
      "- Loss : 0.4427\n",
      "- Accuracy : 81.8142\n",
      "- Epoch : 10\n",
      "- Loss : 0.4095\n",
      "- Accuracy : 82.8125\n",
      "\n",
      "[Test]\n",
      "- Total Accuracy : 78 %\n",
      "- Accuracy of Low : 80 %\n",
      "- Accuracy of Medium : 73 %\n",
      "- Accuracy of High : 82 %\n",
      "- F-1 Micro Score : 0.78\n",
      "- F-1 Macro Score : 0.79\n",
      "\n"
     ]
    }
   ],
   "source": [
    "!python ../classification.py\\\n",
    "        -D './data01.xlsx'\\\n",
    "        -X1 'Solute SMILES'\\\n",
    "        -X2 'Solvent SMILES'\\\n",
    "        -Y 'LogS'\\\n",
    "        -O './results/classification/test_class.json'\\\n",
    "        -M './results/classification/test_class_model.pt'\\\n",
    "        -e 10"
   ]
  },
  {
   "cell_type": "markdown",
   "metadata": {},
   "source": [
    "## class_test.py\n",
    "- --model_path', '-M', type=str, default='./results/model.pt', help=\"model path and name ('./results/model.pt')\"\n",
    "- --input_path', '-I', type=str, default='./smiles.txt', help=\"input path and name ('./smiles.txt')\"\n",
    "- --output_path', '-O', type=str, default='./results/pred_results.txt', help=\"output path and name\"\n",
    "- --conv', '-c', type=str, default='GCNConv', choices=['GCNConv', 'ARMAConv', 'SAGEConv']\n",
    "- --dropout', '-d', type=float, default=0.1, help='dropout'"
   ]
  },
  {
   "cell_type": "code",
   "execution_count": 14,
   "metadata": {},
   "outputs": [
    {
     "name": "stdout",
     "output_type": "stream",
     "text": [
      "Solute SMILES\tSolvent SMILES\r\n",
      "C=CC(=O)N\tO\r\n",
      "C=CC(=O)N\tCC(=O)C\r\n",
      "CCCC1=CC=CC=C1\tO\r\n",
      "CCCC1=CC=CC=C1\tCC(=O)C"
     ]
    }
   ],
   "source": [
    "!cat ./smiles.txt"
   ]
  },
  {
   "cell_type": "code",
   "execution_count": 15,
   "metadata": {},
   "outputs": [
    {
     "name": "stdout",
     "output_type": "stream",
     "text": [
      "\n",
      "Graph Convolutional Network for Regression logS\n",
      "Soongsil University, Seoul, South Korea\n",
      "Computational Science and Artificial Intelligence Lab\n",
      "\n",
      "Done!\n",
      "\n"
     ]
    }
   ],
   "source": [
    "!python ../class_test.py\\\n",
    "        -M './results/classification/test_class_model.pt'\\\n",
    "        -I './smiles.txt'\\\n",
    "        -O './results/classification/myTest.txt'"
   ]
  },
  {
   "cell_type": "code",
   "execution_count": 16,
   "metadata": {},
   "outputs": [
    {
     "name": "stdout",
     "output_type": "stream",
     "text": [
      "Solute SMILES\tSolvent SMILES\tClass\r\n",
      "C=CC(=O)N\tO\tHigh\r\n",
      "C=CC(=O)N\tCC(=O)C\tHigh\r\n",
      "CCCC1=CC=CC=C1\tO\tLow\r\n",
      "CCCC1=CC=CC=C1\tCC(=O)C\tHigh\r\n"
     ]
    }
   ],
   "source": [
    "!cat ./results/classification/myTest.txt"
   ]
  }
 ],
 "metadata": {
  "kernelspec": {
   "display_name": "Python 3",
   "language": "python",
   "name": "python3"
  },
  "language_info": {
   "codemirror_mode": {
    "name": "ipython",
    "version": 3
   },
   "file_extension": ".py",
   "mimetype": "text/x-python",
   "name": "python",
   "nbconvert_exporter": "python",
   "pygments_lexer": "ipython3",
   "version": "3.6.12"
  }
 },
 "nbformat": 4,
 "nbformat_minor": 4
}
